{
 "cells": [
  {
   "cell_type": "code",
   "execution_count": 6,
   "metadata": {},
   "outputs": [],
   "source": [
    "from skimage.feature import daisy\n",
    "from skimage import data\n",
    "import matplotlib.pyplot as plt\n",
    "from skimage import io\n",
    "from skimage.transform import resize\n",
    "from skimage.exposure import histogram\n",
    "%matplotlib inline"
   ]
  },
  {
   "cell_type": "code",
   "execution_count": 12,
   "metadata": {},
   "outputs": [],
   "source": [
    "image1 = io.imread('../images/all/monet_136.jpg', flatten=True)\n",
    "image2 = io.imread('../images/all/monet_198.jpg', flatten=True)\n",
    "image3 = io.imread('../images/all/monet_200.jpg', flatten=True)\n",
    "image4 = io.imread('../images/all/rembrandt_98.jpg', flatten=True)\n",
    "image5 = io.imread('../images/all/rembrandt_102.jpg', flatten=True)\n",
    "image6 = io.imread('../images/all/rembrandt_103.jpg', flatten=True)\n"
   ]
  },
  {
   "cell_type": "code",
   "execution_count": 13,
   "metadata": {},
   "outputs": [
    {
     "name": "stdout",
     "output_type": "stream",
     "text": [
      "[   434   8292  25034  34977  19862  11647   9146 122843 846610 317955]\n"
     ]
    }
   ],
   "source": [
    "print(histogram(image1, nbins=10)[0])"
   ]
  },
  {
   "cell_type": "code",
   "execution_count": 30,
   "metadata": {},
   "outputs": [
    {
     "data": {
      "image/png": "[encoded data removed]",
      "text/plain": [
       "<matplotlib.figure.Figure at 0x1c1d6f8400>"
      ]
     },
     "metadata": {},
     "output_type": "display_data"
    }
   ],
   "source": [
    "y = histogram(image1, nbins=10)[0]\n",
    "N = len(y)\n",
    "x = range(N)\n",
    "width = 1/1.5\n",
    "fig, ax = plt.subplots(figsize=(16, 9))\n",
    "ax.bar(x, y, width, color=\"teal\")\n",
    "ax.get_xaxis().set_ticks([])\n",
    "ax.get_yaxis().set_ticks([])\n",
    "plt.savefig('./monet_136_hist.png')\n",
    "plt.show()"
   ]
  },
  {
   "cell_type": "code",
   "execution_count": 31,
   "metadata": {},
   "outputs": [
    {
     "data": {
      "image/png": "[encoded data removed]",
      "text/plain": [
       "<matplotlib.figure.Figure at 0x1c1d72ceb8>"
      ]
     },
     "metadata": {},
     "output_type": "display_data"
    }
   ],
   "source": [
    "y = histogram(image4, nbins=10)[0]\n",
    "N = len(y)\n",
    "x = range(N)\n",
    "width = 1/1.5\n",
    "fig, ax = plt.subplots(figsize=(16, 9))\n",
    "ax.bar(x, y, width, color=\"teal\")\n",
    "ax.get_xaxis().set_ticks([])\n",
    "ax.get_yaxis().set_ticks([])\n",
    "plt.savefig('./rembrandt_98_hist.png')\n",
    "plt.show()"
   ]
  },
  {
   "cell_type": "code",
   "execution_count": null,
   "metadata": {},
   "outputs": [],
   "source": []
  },
  {
   "cell_type": "code",
   "execution_count": 5,
   "metadata": {},
   "outputs": [
    {
     "ename": "NameError",
     "evalue": "name 'image' is not defined",
     "output_type": "error",
     "traceback": [
      "\u001b[0;31m---------------------------------------------------------------------------\u001b[0m",
      "\u001b[0;31mNameError\u001b[0m                                 Traceback (most recent call last)",
      "\u001b[0;32m<ipython-input-5-22a2216c71bf>\u001b[0m in \u001b[0;36m<module>\u001b[0;34m()\u001b[0m\n\u001b[0;32m----> 1\u001b[0;31m descs, descs_img = daisy(image, step=180, radius=58, rings=2, histograms=6,\n\u001b[0m\u001b[1;32m      2\u001b[0m                          orientations=8, visualize=True)\n\u001b[1;32m      3\u001b[0m \u001b[0;31m# descs, descs_img = daisy(image, visualize=True)\u001b[0m\u001b[0;34m\u001b[0m\u001b[0;34m\u001b[0m\u001b[0m\n\u001b[1;32m      4\u001b[0m \u001b[0mfig\u001b[0m\u001b[0;34m,\u001b[0m \u001b[0max\u001b[0m \u001b[0;34m=\u001b[0m \u001b[0mplt\u001b[0m\u001b[0;34m.\u001b[0m\u001b[0msubplots\u001b[0m\u001b[0;34m(\u001b[0m\u001b[0;34m)\u001b[0m\u001b[0;34m\u001b[0m\u001b[0m\n\u001b[1;32m      5\u001b[0m \u001b[0mfig\u001b[0m\u001b[0;34m.\u001b[0m\u001b[0mset_size_inches\u001b[0m\u001b[0;34m(\u001b[0m\u001b[0;36m18.5\u001b[0m\u001b[0;34m,\u001b[0m \u001b[0;36m10.5\u001b[0m\u001b[0;34m)\u001b[0m\u001b[0;34m\u001b[0m\u001b[0m\n",
      "\u001b[0;31mNameError\u001b[0m: name 'image' is not defined"
     ]
    }
   ],
   "source": [
    "descs, descs_img = daisy(image, step=180, radius=58, rings=2, histograms=6,\n",
    "                         orientations=8, visualize=True)\n",
    "# descs, descs_img = daisy(image, visualize=True)\n",
    "fig, ax = plt.subplots()\n",
    "fig.set_size_inches(18.5, 10.5)\n",
    "ax.axis('off')\n",
    "ax.imshow(descs_img)\n",
    "descs_num = descs.shape[0] * descs.shape[1]\n",
    "ax.set_title('%i DAISY descriptors extracted:' % descs_num)\n",
    "plt.show()\n",
    "\n",
    "\n"
   ]
  },
  {
   "cell_type": "code",
   "execution_count": null,
   "metadata": {},
   "outputs": [],
   "source": [
    "import numpy as np\n",
    "\n",
    "from sklearn.cluster import KMeans\n",
    "\n",
    "images = io.imread_collection('../images/test_data/*.jpg')\n",
    "print(len(images))"
   ]
  },
  {
   "cell_type": "code",
   "execution_count": null,
   "metadata": {},
   "outputs": [],
   "source": [
    "X_flattened = []\n",
    "for image in images: \n",
    "    painting_flattened = []\n",
    "    for row in resize(image, (200, 200)):\n",
    "        for pixel in row:\n",
    "            for colour in pixel:\n",
    "                painting_flattened.append(colour)\n",
    "    X_flattened.append(painting_flattened)"
   ]
  },
  {
   "cell_type": "code",
   "execution_count": null,
   "metadata": {},
   "outputs": [],
   "source": [
    "from skimage.color import rgb2gray\n",
    "\n",
    "X = []\n",
    "for image in images: \n",
    "    daisy_features = daisy(resize(rgb2gray(image), (200, 200)))\n",
    "    features_flattened = []\n",
    "    for x in daisy_features:\n",
    "        for y in x:\n",
    "            for z in y:\n",
    "                features_flattened.append(z)\n",
    "    X.append(features_flattened)"
   ]
  },
  {
   "cell_type": "code",
   "execution_count": null,
   "metadata": {},
   "outputs": [],
   "source": [
    "X_grid_colour_means = []\n",
    "\n",
    "for image in images: \n",
    "    GRID_WIDTH = 20\n",
    "    resized_painting = resize(image, (200, 200))\n",
    "    result = []\n",
    "    for i in range(10):\n",
    "        for j in range(10):\n",
    "            grid = resized_painting[\n",
    "                i*GRID_WIDTH:i*GRID_WIDTH+GRID_WIDTH,\n",
    "                j*GRID_WIDTH:j*GRID_WIDTH+GRID_WIDTH,\n",
    "                :\n",
    "            ]\n",
    "            result.append(grid[:, :, 0].mean())\n",
    "            result.append(grid[:, :, 1].mean())\n",
    "            result.append(grid[:, :, 2].mean())\n",
    "\n",
    "            X_grid_colour_means.append(result)"
   ]
  },
  {
   "cell_type": "code",
   "execution_count": null,
   "metadata": {},
   "outputs": [],
   "source": [
    "from skimage.feature import local_binary_pattern\n",
    "\n",
    "X_texture = []\n",
    "\n",
    "for image in images: \n",
    "    n_bins = 20\n",
    "    lbp = local_binary_pattern(rgb2gray(image), 24, 3, 'uniform')\n",
    "    X_texture.append(np.histogram(lbp, normed=True, bins=n_bins, range=(0, n_bins))[0])"
   ]
  },
  {
   "cell_type": "code",
   "execution_count": null,
   "metadata": {},
   "outputs": [],
   "source": [
    "est = KMeans(n_clusters=10)\n",
    "est.fit(X_grid_colour_means)\n",
    "print(est.labels_)"
   ]
  },
  {
   "cell_type": "code",
   "execution_count": null,
   "metadata": {},
   "outputs": [],
   "source": [
    "def show_matching_images(label_to_show): \n",
    "    images_to_show = []\n",
    "    for i, label in enumerate(est.labels_): \n",
    "        if label == label_to_show: \n",
    "            images_to_show.append(images[i])\n",
    "            \n",
    "    f, axes = plt.subplots(nrows=4, ncols=len(images_to_show) // 4, figsize=(20, 20))\n",
    "\n",
    "    for i, image in enumerate(images_to_show):\n",
    "        axes.flat[i].imshow(image, cmap='gray')\n",
    "        axes.flat[i].axis('off')\n",
    "\n",
    "    plt.tight_layout()\n",
    "    \n",
    "show_matching_images(9)  "
   ]
  },
  {
   "cell_type": "code",
   "execution_count": null,
   "metadata": {},
   "outputs": [],
   "source": [
    "f, axes = plt.subplots(nrows=20, ncols=len(images) // 20, figsize=(20, 80))\n",
    "\n",
    "for i, image in enumerate(images):\n",
    "    axes.flat[i].imshow(image, cmap='gray')\n",
    "    axes.flat[i].axis('off')\n",
    "    \n",
    "plt.tight_layout()"
   ]
  },
  {
   "cell_type": "code",
   "execution_count": null,
   "metadata": {},
   "outputs": [],
   "source": [
    "import glob\n",
    "import os \n",
    "for i in range(0, 20): \n",
    "    for filename in glob.glob('../feature_extraction_sandbox/images/cluster_{}/*'.format(i)):\n",
    "        os.remove(filename)"
   ]
  },
  {
   "cell_type": "code",
   "execution_count": null,
   "metadata": {},
   "outputs": [],
   "source": [
    "for index, label in enumerate(est.labels_): \n",
    "    io.imsave('../feature_extraction_sandbox/images/cluster_{}/{}.jpg'.format(label, index), images[index])"
   ]
  },
  {
   "cell_type": "code",
   "execution_count": null,
   "metadata": {},
   "outputs": [],
   "source": [
    "from sklearn import datasets\n",
    "iris = datasets.load_iris()\n",
    "X = iris.data\n",
    "y = iris.target"
   ]
  },
  {
   "cell_type": "code",
   "execution_count": null,
   "metadata": {},
   "outputs": [],
   "source": [
    "print(X)"
   ]
  },
  {
   "cell_type": "code",
   "execution_count": null,
   "metadata": {},
   "outputs": [],
   "source": [
    "rothko_81 = io.imread('../images/all/rothko_81.jpg')"
   ]
  },
  {
   "cell_type": "code",
   "execution_count": null,
   "metadata": {},
   "outputs": [],
   "source": [
    "fig, ax = plt.subplots()\n",
    "fig.set_size_inches(18.5, 10.5)\n",
    "ax.axis('off')\n",
    "ax.imshow(rothko_81)\n",
    "plt.show()"
   ]
  },
  {
   "cell_type": "code",
   "execution_count": null,
   "metadata": {},
   "outputs": [],
   "source": [
    "from skimage.exposure import histogram\n",
    "\n",
    "grayscale_painting = rgb2gray(rothko_81)\n",
    "print(histogram(grayscale_painting, nbins=10)[0])"
   ]
  },
  {
   "cell_type": "code",
   "execution_count": null,
   "metadata": {},
   "outputs": [],
   "source": [
    "monet_156 = io.imread('../images/all/monet_156.jpg')\n",
    "fig, ax = plt.subplots()\n",
    "fig.set_size_inches(18.5, 10.5)\n",
    "ax.axis('off')\n",
    "ax.imshow(monet_156)\n",
    "plt.show()\n",
    "print(histogram(rgb2gray(monet_156), nbins=10)[0])"
   ]
  },
  {
   "cell_type": "code",
   "execution_count": null,
   "metadata": {},
   "outputs": [],
   "source": [
    "monet_202 = io.imread('../images/all/monet_202.jpg')\n",
    "fig, ax = plt.subplots()\n",
    "fig.set_size_inches(18.5, 10.5)\n",
    "ax.axis('off')\n",
    "ax.imshow(monet_202)\n",
    "plt.show()\n",
    "print(histogram(rgb2gray(monet_202), nbins=10)[0])"
   ]
  },
  {
   "cell_type": "code",
   "execution_count": null,
   "metadata": {},
   "outputs": [],
   "source": [
    "from skimage.feature import local_binary_pattern\n",
    "lbp = local_binary_pattern(rgb2gray(monet_202), 24, 3, 'uniform')\n",
    "n_bins = int(lbp.max() + 1)\n",
    "print(np.histogram(lbp, normed=True, bins=n_bins, range=(0, n_bins))[0])"
   ]
  },
  {
   "cell_type": "code",
   "execution_count": null,
   "metadata": {},
   "outputs": [],
   "source": [
    "lbp = local_binary_pattern(rgb2gray(rothko_81), 24, 3, 'uniform')\n",
    "# n_bins = int(lbp.max() + 1)\n",
    "n_bins = 20\n",
    "print(np.histogram(lbp, normed=True, bins=n_bins, range=(0, n_bins))[0])"
   ]
  },
  {
   "cell_type": "code",
   "execution_count": null,
   "metadata": {},
   "outputs": [],
   "source": [
    "\n",
    "# fig.set_size_inches(18.5, 10.5)\n",
    "# ax.axis('off')\n",
    "# ax.imshow(resize(monet_202, (200, 200)))\n",
    "# plt.show()\n",
    "print(monet_202.mean())\n",
    "print(monet_202[:, :, 0].mean())\n",
    "print(monet_202[:, :, 1].mean())\n",
    "print(monet_202[:, :, 2].mean())\n",
    "print(rothko_81.mean())\n",
    "print(rothko_81[:, :, 0].mean())\n",
    "print(rothko_81[:, :, 1].mean())\n",
    "print(rothko_81[:, :, 2].mean())\n",
    "\n",
    "GRID_WIDTH = 20\n",
    "resized_monet = resize(rothko_81, (200, 200))\n",
    "for i in range(10): \n",
    "    for j in range(10): \n",
    "        fig, ax = plt.subplots()\n",
    "#         fig.set_size_inches(18.5, 10.5)\n",
    "        ax.axis('off')\n",
    "        ax.imshow(resized_monet[\n",
    "            i*GRID_WIDTH:i*GRID_WIDTH+GRID_WIDTH, \n",
    "            j*GRID_WIDTH:j*GRID_WIDTH+GRID_WIDTH, \n",
    "            :\n",
    "        ])\n",
    "        plt.show()\n"
   ]
  },
  {
   "cell_type": "code",
   "execution_count": null,
   "metadata": {},
   "outputs": [],
   "source": [
    "red_channel_copy = rothko_81.copy()\n",
    "red_channel_copy[:,0,0] = 0\n",
    "print(list(histogram(rgb2gray(red_channel_copy), nbins=10)[0]))"
   ]
  },
  {
   "cell_type": "code",
   "execution_count": null,
   "metadata": {},
   "outputs": [],
   "source": [
    "result = []\n",
    "red_channel_copy = rothko_81.copy()\n",
    "red_channel_copy[:,0,0] = 0\n",
    "result += list(histogram(rgb2gray(red_channel_copy), nbins=10)[0])\n",
    "print(result)\n",
    "green_channel_copy = rothko_81.copy()\n",
    "green_channel_copy[0,:,0] = 0\n",
    "result += list(histogram(rgb2gray(green_channel_copy), nbins=10)[0])\n",
    "print(result)\n",
    "blue_channel_copy = rothko_81.copy()\n",
    "blue_channel_copy[0,0,:] = 0\n",
    "result += list(histogram(rgb2gray(blue_channel_copy), nbins=10)[0])\n",
    "print(result)"
   ]
  },
  {
   "cell_type": "code",
   "execution_count": null,
   "metadata": {},
   "outputs": [],
   "source": [
    "result = []\n",
    "red_channel_copy = monet_202.copy()\n",
    "red_channel_copy[:,:,1:] = 0\n",
    "print(list(histogram(rgb2gray(red_channel_copy), nbins=10)[0]))\n",
    "green_channel_copy = monet_202.copy()\n",
    "green_channel_copy[:,:,0::2] = 0\n",
    "print(list(histogram(rgb2gray(green_channel_copy), nbins=10)[0]))\n",
    "blue_channel_copy = monet_202.copy()\n",
    "blue_channel_copy[:,:,:2] = 0\n",
    "print(list(histogram(rgb2gray(blue_channel_copy), nbins=10)[0]))"
   ]
  },
  {
   "cell_type": "code",
   "execution_count": null,
   "metadata": {},
   "outputs": [],
   "source": [
    "fig, ax = plt.subplots()\n",
    "fig.set_size_inches(18.5, 10.5)\n",
    "ax.axis('off')\n",
    "ax.imshow(blue_channel_copy)\n",
    "plt.show()"
   ]
  },
  {
   "cell_type": "code",
   "execution_count": null,
   "metadata": {},
   "outputs": [],
   "source": [
    "from skimage import feature\n",
    "print(feature.hog(grayscale_painting,\n",
    "                                    orientations=3,\n",
    "                                    pixels_per_cell=(8, 8),\n",
    "                                    cells_per_block=(3, 3),\n",
    "                                    block_norm='L2-Hys',\n",
    "                                    transform_sqrt=False,\n",
    "                                    feature_vector=True))"
   ]
  },
  {
   "cell_type": "code",
   "execution_count": null,
   "metadata": {},
   "outputs": [],
   "source": [
    "for name, est in estimators:\n",
    "    fig = plt.figure(fignum, figsize=(4, 3))\n",
    "    ax = Axes3D(fig, rect=[0, 0, .95, 1], elev=48, azim=134)\n",
    "    est.fit(X)\n",
    "    labels = est.labels_\n",
    "\n",
    "\n",
    "# Plot the ground truth\n",
    "fig = plt.figure(fignum, figsize=(4, 3))\n",
    "ax = Axes3D(fig, rect=[0, 0, .95, 1], elev=48, azim=134)\n",
    "\n",
    "for name, label in [('Setosa', 0),\n",
    "                    ('Versicolour', 1),\n",
    "                    ('Virginica', 2)]:\n",
    "    ax.text3D(X[y == label, 3].mean(),\n",
    "              X[y == label, 0].mean(),\n",
    "              X[y == label, 2].mean() + 2, name,\n",
    "              horizontalalignment='center',\n",
    "              bbox=dict(alpha=.2, edgecolor='w', facecolor='w'))\n",
    "# Reorder the labels to have colors matching the cluster results\n",
    "y = np.choose(y, [1, 2, 0]).astype(np.float)\n",
    "ax.scatter(X[:, 3], X[:, 0], X[:, 2], c=y, edgecolor='k')\n",
    "\n",
    "ax.w_xaxis.set_ticklabels([])\n",
    "ax.w_yaxis.set_ticklabels([])\n",
    "ax.w_zaxis.set_ticklabels([])\n",
    "ax.set_xlabel('Petal width')\n",
    "ax.set_ylabel('Sepal length')\n",
    "ax.set_zlabel('Petal length')\n",
    "ax.set_title('Ground Truth')\n",
    "ax.dist = 12\n",
    "\n",
    "fig.show()"
   ]
  }
 ],
 "metadata": {
  "kernelspec": {
   "display_name": "Python 3",
   "language": "python",
   "name": "python3"
  },
  "language_info": {
   "codemirror_mode": {
    "name": "ipython",
    "version": 3
   },
   "file_extension": ".py",
   "mimetype": "text/x-python",
   "name": "python",
   "nbconvert_exporter": "python",
   "pygments_lexer": "ipython3",
   "version": "3.6.3"
  }
 },
 "nbformat": 4,
 "nbformat_minor": 2
}
